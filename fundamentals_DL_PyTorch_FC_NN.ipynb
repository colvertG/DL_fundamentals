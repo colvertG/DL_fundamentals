{
 "cells": [
  {
   "attachments": {},
   "cell_type": "markdown",
   "metadata": {},
   "source": [
    "# PyTorch"
   ]
  },
  {
   "attachments": {},
   "cell_type": "markdown",
   "metadata": {},
   "source": [
    "## Importar librerías"
   ]
  },
  {
   "cell_type": "code",
   "execution_count": 1,
   "metadata": {},
   "outputs": [],
   "source": [
    "import numpy as np\n",
    "import matplotlib.pyplot as plt\n",
    "\n",
    "# PyTorch \n",
    "import torch\n",
    "import torch.nn as nn\n",
    "import torch.nn.functional as F"
   ]
  },
  {
   "attachments": {},
   "cell_type": "markdown",
   "metadata": {},
   "source": [
    "## Importar imágenes "
   ]
  },
  {
   "cell_type": "code",
   "execution_count": 2,
   "metadata": {},
   "outputs": [],
   "source": [
    "from get_images import get_images"
   ]
  },
  {
   "cell_type": "code",
   "execution_count": 5,
   "metadata": {},
   "outputs": [],
   "source": [
    "# MNIST path\n",
    "mnist_path = r'C:\\Users\\colve\\Documents\\DATOS TESIS\\mnist_raw'\n",
    "x_train_num, y_train_num, x_test_num, y_test_num = get_images(mnist_path)\n",
    "\n",
    "x_train = x_train_num[:50000].reshape(50000, -1).astype(np.float32)\n",
    "y_train = y_train_num[:50000].reshape(50000, 1)\n",
    "\n",
    "x_val = x_train_num[50000:].reshape(10000, -1).astype(np.float32)\n",
    "y_val = y_train_num[50000:].reshape(10000, 1)\n",
    "\n",
    "x_test = x_test_num.copy().reshape(10000, -1).astype(np.float32)\n",
    "y_test = y_test_num.copy().reshape(10000, 1)"
   ]
  },
  {
   "attachments": {},
   "cell_type": "markdown",
   "metadata": {},
   "source": [
    "## Normalizar imágenes"
   ]
  },
  {
   "cell_type": "code",
   "execution_count": 6,
   "metadata": {},
   "outputs": [],
   "source": [
    "def normalise(x_mean, x_std, x_data):\n",
    "    return (x_data - x_mean) / x_std"
   ]
  },
  {
   "cell_type": "code",
   "execution_count": 7,
   "metadata": {},
   "outputs": [],
   "source": [
    "x_mean = x_train.mean()\n",
    "x_std = x_train.std()\n",
    "\n",
    "x_train = normalise(x_mean, x_std, x_train)\n",
    "x_val = normalise(x_mean, x_std, x_val)\n",
    "x_test = normalise(x_mean, x_std, x_test)"
   ]
  },
  {
   "cell_type": "code",
   "execution_count": 8,
   "metadata": {},
   "outputs": [
    {
     "data": {
      "text/plain": [
       "(-3.1638146e-07, 0.99999934)"
      ]
     },
     "execution_count": 8,
     "metadata": {},
     "output_type": "execute_result"
    }
   ],
   "source": [
    "x_train.mean(), x_train.std()"
   ]
  },
  {
   "attachments": {},
   "cell_type": "markdown",
   "metadata": {},
   "source": [
    "## Mostrar imágenes "
   ]
  },
  {
   "cell_type": "code",
   "execution_count": 9,
   "metadata": {},
   "outputs": [
    {
     "data": {
      "text/plain": [
       "(10000, 784)"
      ]
     },
     "execution_count": 9,
     "metadata": {},
     "output_type": "execute_result"
    }
   ],
   "source": [
    "x_test.shape"
   ]
  },
  {
   "cell_type": "code",
   "execution_count": 10,
   "metadata": {},
   "outputs": [
    {
     "data": {
      "text/plain": [
       "(50000, 1)"
      ]
     },
     "execution_count": 10,
     "metadata": {},
     "output_type": "execute_result"
    }
   ],
   "source": [
    "y_train.shape"
   ]
  },
  {
   "cell_type": "code",
   "execution_count": 11,
   "metadata": {},
   "outputs": [],
   "source": [
    "def plot_number(image):\n",
    "    plt.figure(figsize=(5,5))\n",
    "    plt.imshow(image.squeeze(), cmap=plt.get_cmap('gray'))\n",
    "    plt.axis('off')\n",
    "    plt.show()"
   ]
  },
  {
   "cell_type": "code",
   "execution_count": 17,
   "metadata": {},
   "outputs": [
    {
     "name": "stdout",
     "output_type": "stream",
     "text": [
      "La imagen muestreada representa un: 7\n"
     ]
    },
    {
     "data": {
      "image/png": "[encoded data removed]",
      "text/plain": [
       "<Figure size 500x500 with 1 Axes>"
      ]
     },
     "metadata": {},
     "output_type": "display_data"
    }
   ],
   "source": [
    "rnd_idx = np.random.randint(len(y_test))\n",
    "print(f'La imagen muestreada representa un: {y_test[rnd_idx, 0]}')\n",
    "plot_number(x_test_num[rnd_idx])"
   ]
  },
  {
   "attachments": {},
   "cell_type": "markdown",
   "metadata": {},
   "source": [
    "## Crear minibatches "
   ]
  },
  {
   "cell_type": "code",
   "execution_count": 18,
   "metadata": {},
   "outputs": [],
   "source": [
    "def create_minibatches(x, y, mb_size, shuffle = True):\n",
    "    '''\n",
    "    x  #muestras, 784\n",
    "    y #muestras, 1\n",
    "    '''\n",
    "    assert x.shape[0] == y.shape[0], 'Error en cantidad de muestras'\n",
    "    total_data = x.shape[0]\n",
    "    if shuffle: \n",
    "        idxs = np.arange(total_data)\n",
    "        np.random.shuffle(idxs)\n",
    "        x = x[idxs]\n",
    "        y = y[idxs]  \n",
    "    return ((x[i:i+mb_size], y[i:i+mb_size]) for i in range(0, total_data, mb_size))"
   ]
  },
  {
   "attachments": {},
   "cell_type": "markdown",
   "metadata": {},
   "source": [
    "## Ahora sí! PyTorch"
   ]
  },
  {
   "attachments": {},
   "cell_type": "markdown",
   "metadata": {},
   "source": [
    "## Convertir Numpy array a PyTorch "
   ]
  },
  {
   "cell_type": "code",
   "execution_count": 19,
   "metadata": {},
   "outputs": [],
   "source": [
    "x_train_tensor = torch.tensor(x_train.copy())\n",
    "y_train_tensor = torch.tensor(y_train.copy())\n",
    "\n",
    "x_val_tensor = torch.tensor(x_val.copy())\n",
    "y_val_tensor = torch.tensor(y_val.copy())\n",
    "\n",
    "x_test_tensor = torch.tensor(x_test.copy())\n",
    "y_test_tensor = torch.tensor(y_test.copy())"
   ]
  },
  {
   "cell_type": "code",
   "execution_count": null,
   "metadata": {},
   "outputs": [],
   "source": []
  },
  {
   "attachments": {},
   "cell_type": "markdown",
   "metadata": {},
   "source": [
    "\n",
    "## Usar GPU de estar disponible"
   ]
  },
  {
   "cell_type": "code",
   "execution_count": 20,
   "metadata": {},
   "outputs": [
    {
     "name": "stdout",
     "output_type": "stream",
     "text": [
      "Estammos usando: cuda\n"
     ]
    }
   ],
   "source": [
    "if torch.cuda.is_available():\n",
    "    device = torch.device('cuda')\n",
    "else:\n",
    "    device = torch.device('cpu')\n",
    "print(f'Estammos usando: {device}')"
   ]
  },
  {
   "attachments": {},
   "cell_type": "markdown",
   "metadata": {},
   "source": [
    "## Compute accuracy "
   ]
  },
  {
   "cell_type": "code",
   "execution_count": 21,
   "metadata": {},
   "outputs": [],
   "source": [
    "def accuracy(model, x, y, mb_size):\n",
    "    num_correct = 0\n",
    "    num_total = 0\n",
    "    model.eval()\n",
    "    model = model.to(device=device)\n",
    "    with torch.no_grad():\n",
    "        for (xi, yi) in create_minibatches(x, y, mb_size):\n",
    "            xi = xi.to(device=device, dtype = torch.float32)\n",
    "            yi = yi.to(device=device, dtype = torch.long)\n",
    "            scores = model(xi) # mb_size, 10\n",
    "            _, pred = scores.max(dim=1) #pred shape (mb_size )\n",
    "            num_correct += (pred == yi.squeeze()).sum() # pred shape (mb_size), yi shape (mb_size, 1)\n",
    "            num_total += pred.size(0)\n",
    "\n",
    "            return float(num_correct)/num_total     \n",
    "            "
   ]
  },
  {
   "attachments": {},
   "cell_type": "markdown",
   "metadata": {},
   "source": [
    "## Loop de entrenamiento"
   ]
  },
  {
   "cell_type": "code",
   "execution_count": 22,
   "metadata": {},
   "outputs": [],
   "source": [
    "def train(model, optimiser, mb_size, epochs=100):\n",
    "    model = model.to(device=device)\n",
    "    for epoch in range(epochs):\n",
    "        for (xi, yi) in create_minibatches(x_train_tensor, y_train_tensor, mb_size):\n",
    "            model.train()\n",
    "            xi = xi.to(device=device, dtype=torch.float32)\n",
    "            yi = yi.to(device=device, dtype=torch.long)\n",
    "            scores = model(xi)\n",
    "            # funcion cost\n",
    "            cost = F.cross_entropy(input= scores, target=yi.squeeze())\n",
    "            optimiser.zero_grad()\n",
    "            cost.backward()\n",
    "            optimiser.step()\n",
    "            \n",
    "        print(f'Epoch: {epoch}, costo: {cost.item()}, accuracy: {accuracy(model, x_val_tensor, y_val_tensor, mb_size)}')\n",
    "    "
   ]
  },
  {
   "attachments": {},
   "cell_type": "markdown",
   "metadata": {},
   "source": [
    "## Modelo usando Sequential"
   ]
  },
  {
   "cell_type": "code",
   "execution_count": 23,
   "metadata": {
    "scrolled": true
   },
   "outputs": [
    {
     "name": "stdout",
     "output_type": "stream",
     "text": [
      "Epoch: 0, costo: 1.9369696378707886, accuracy: 0.729248046875\n",
      "Epoch: 1, costo: 1.326033115386963, accuracy: 0.7841796875\n",
      "Epoch: 2, costo: 0.864780068397522, accuracy: 0.842041015625\n",
      "Epoch: 3, costo: 0.6718147397041321, accuracy: 0.864990234375\n",
      "Epoch: 4, costo: 0.5313851833343506, accuracy: 0.87744140625\n",
      "Epoch: 5, costo: 0.5284450054168701, accuracy: 0.8828125\n",
      "Epoch: 6, costo: 0.45692217350006104, accuracy: 0.8916015625\n",
      "Epoch: 7, costo: 0.44535908102989197, accuracy: 0.889404296875\n",
      "Epoch: 8, costo: 0.404885858297348, accuracy: 0.894775390625\n",
      "Epoch: 9, costo: 0.3601301312446594, accuracy: 0.90869140625\n",
      "Epoch: 10, costo: 0.36745718121528625, accuracy: 0.91015625\n",
      "Epoch: 11, costo: 0.3619941473007202, accuracy: 0.906982421875\n",
      "Epoch: 12, costo: 0.3814397156238556, accuracy: 0.9169921875\n",
      "Epoch: 13, costo: 0.30484965443611145, accuracy: 0.91259765625\n",
      "Epoch: 14, costo: 0.3065001666545868, accuracy: 0.915771484375\n",
      "Epoch: 15, costo: 0.3482861816883087, accuracy: 0.919189453125\n",
      "Epoch: 16, costo: 0.3584921360015869, accuracy: 0.916015625\n",
      "Epoch: 17, costo: 0.2889691889286041, accuracy: 0.9208984375\n",
      "Epoch: 18, costo: 0.3107093274593353, accuracy: 0.923583984375\n",
      "Epoch: 19, costo: 0.29252904653549194, accuracy: 0.9267578125\n",
      "Epoch: 20, costo: 0.289661169052124, accuracy: 0.924072265625\n",
      "Epoch: 21, costo: 0.32097378373146057, accuracy: 0.9287109375\n",
      "Epoch: 22, costo: 0.24715059995651245, accuracy: 0.924072265625\n",
      "Epoch: 23, costo: 0.230185866355896, accuracy: 0.927001953125\n",
      "Epoch: 24, costo: 0.26039496064186096, accuracy: 0.92333984375\n",
      "Epoch: 25, costo: 0.2376745343208313, accuracy: 0.934814453125\n",
      "Epoch: 26, costo: 0.2930143177509308, accuracy: 0.927734375\n",
      "Epoch: 27, costo: 0.2846577763557434, accuracy: 0.939208984375\n",
      "Epoch: 28, costo: 0.2773395776748657, accuracy: 0.9306640625\n",
      "Epoch: 29, costo: 0.24170313775539398, accuracy: 0.931884765625\n",
      "Epoch: 30, costo: 0.2592082619667053, accuracy: 0.931640625\n",
      "Epoch: 31, costo: 0.21463096141815186, accuracy: 0.93115234375\n",
      "Epoch: 32, costo: 0.23588797450065613, accuracy: 0.94140625\n",
      "Epoch: 33, costo: 0.19136852025985718, accuracy: 0.939697265625\n",
      "Epoch: 34, costo: 0.18897584080696106, accuracy: 0.942626953125\n",
      "Epoch: 35, costo: 0.1893148124217987, accuracy: 0.93408203125\n",
      "Epoch: 36, costo: 0.22954775393009186, accuracy: 0.938720703125\n",
      "Epoch: 37, costo: 0.2182057946920395, accuracy: 0.944091796875\n",
      "Epoch: 38, costo: 0.2267836481332779, accuracy: 0.940185546875\n",
      "Epoch: 39, costo: 0.22337113320827484, accuracy: 0.939453125\n",
      "Epoch: 40, costo: 0.19276981055736542, accuracy: 0.94287109375\n",
      "Epoch: 41, costo: 0.22748702764511108, accuracy: 0.94775390625\n",
      "Epoch: 42, costo: 0.20846086740493774, accuracy: 0.9462890625\n",
      "Epoch: 43, costo: 0.24063488841056824, accuracy: 0.94677734375\n",
      "Epoch: 44, costo: 0.18605703115463257, accuracy: 0.949951171875\n",
      "Epoch: 45, costo: 0.20428010821342468, accuracy: 0.94482421875\n",
      "Epoch: 46, costo: 0.21631033718585968, accuracy: 0.95361328125\n",
      "Epoch: 47, costo: 0.2130318582057953, accuracy: 0.944580078125\n",
      "Epoch: 48, costo: 0.2060888409614563, accuracy: 0.94873046875\n",
      "Epoch: 49, costo: 0.15815146267414093, accuracy: 0.94921875\n",
      "Epoch: 50, costo: 0.16599041223526, accuracy: 0.952392578125\n",
      "Epoch: 51, costo: 0.17823220789432526, accuracy: 0.950927734375\n",
      "Epoch: 52, costo: 0.1893685907125473, accuracy: 0.953857421875\n",
      "Epoch: 53, costo: 0.1954401135444641, accuracy: 0.953369140625\n",
      "Epoch: 54, costo: 0.1778310388326645, accuracy: 0.95458984375\n",
      "Epoch: 55, costo: 0.1729067713022232, accuracy: 0.955322265625\n",
      "Epoch: 56, costo: 0.2043883353471756, accuracy: 0.952392578125\n",
      "Epoch: 57, costo: 0.19522327184677124, accuracy: 0.953857421875\n",
      "Epoch: 58, costo: 0.15349870920181274, accuracy: 0.95458984375\n",
      "Epoch: 59, costo: 0.15519754588603973, accuracy: 0.96142578125\n",
      "Epoch: 60, costo: 0.15452638268470764, accuracy: 0.955810546875\n",
      "Epoch: 61, costo: 0.1462775468826294, accuracy: 0.954833984375\n",
      "Epoch: 62, costo: 0.209517240524292, accuracy: 0.953857421875\n",
      "Epoch: 63, costo: 0.15804946422576904, accuracy: 0.958740234375\n",
      "Epoch: 64, costo: 0.1419605165719986, accuracy: 0.957275390625\n",
      "Epoch: 65, costo: 0.16299846768379211, accuracy: 0.959716796875\n",
      "Epoch: 66, costo: 0.15457367897033691, accuracy: 0.956298828125\n",
      "Epoch: 67, costo: 0.16875500977039337, accuracy: 0.96044921875\n",
      "Epoch: 68, costo: 0.1322755515575409, accuracy: 0.962890625\n",
      "Epoch: 69, costo: 0.1326863020658493, accuracy: 0.958740234375\n",
      "Epoch: 70, costo: 0.109761543571949, accuracy: 0.95947265625\n",
      "Epoch: 71, costo: 0.13278095424175262, accuracy: 0.957275390625\n",
      "Epoch: 72, costo: 0.11326517909765244, accuracy: 0.963134765625\n",
      "Epoch: 73, costo: 0.13473863899707794, accuracy: 0.9619140625\n",
      "Epoch: 74, costo: 0.15027488768100739, accuracy: 0.966064453125\n",
      "Epoch: 75, costo: 0.11935490369796753, accuracy: 0.95849609375\n",
      "Epoch: 76, costo: 0.17953656613826752, accuracy: 0.95947265625\n",
      "Epoch: 77, costo: 0.11212678998708725, accuracy: 0.955810546875\n",
      "Epoch: 78, costo: 0.16605031490325928, accuracy: 0.965087890625\n",
      "Epoch: 79, costo: 0.11616469919681549, accuracy: 0.958251953125\n",
      "Epoch: 80, costo: 0.11804919689893723, accuracy: 0.968994140625\n",
      "Epoch: 81, costo: 0.13102343678474426, accuracy: 0.964111328125\n",
      "Epoch: 82, costo: 0.14463889598846436, accuracy: 0.9619140625\n",
      "Epoch: 83, costo: 0.1383749097585678, accuracy: 0.9658203125\n",
      "Epoch: 84, costo: 0.10441850870847702, accuracy: 0.96142578125\n",
      "Epoch: 85, costo: 0.12969869375228882, accuracy: 0.96240234375\n",
      "Epoch: 86, costo: 0.1021253913640976, accuracy: 0.961181640625\n",
      "Epoch: 87, costo: 0.15373478829860687, accuracy: 0.958984375\n",
      "Epoch: 88, costo: 0.14738139510154724, accuracy: 0.964599609375\n",
      "Epoch: 89, costo: 0.12021978944540024, accuracy: 0.965087890625\n",
      "Epoch: 90, costo: 0.1606241911649704, accuracy: 0.96630859375\n",
      "Epoch: 91, costo: 0.08530400693416595, accuracy: 0.96435546875\n",
      "Epoch: 92, costo: 0.10293246060609818, accuracy: 0.96142578125\n",
      "Epoch: 93, costo: 0.1633017510175705, accuracy: 0.96728515625\n",
      "Epoch: 94, costo: 0.09820058941841125, accuracy: 0.967041015625\n",
      "Epoch: 95, costo: 0.11573606729507446, accuracy: 0.966552734375\n",
      "Epoch: 96, costo: 0.09217748790979385, accuracy: 0.964111328125\n",
      "Epoch: 97, costo: 0.11811532825231552, accuracy: 0.966552734375\n",
      "Epoch: 98, costo: 0.08676975965499878, accuracy: 0.963623046875\n",
      "Epoch: 99, costo: 0.15045800805091858, accuracy: 0.960205078125\n"
     ]
    }
   ],
   "source": [
    "#Instanciar modelo\n",
    "hidden1 = 1000 \n",
    "hidden = 1000\n",
    "lr = 5e-2\n",
    "epochs = 100\n",
    "mb_size = 4096\n",
    "model1 = nn.Sequential(nn.Linear(in_features=784, out_features=hidden1), nn.ReLU(),\n",
    "                       nn.Linear(in_features=hidden1, out_features=hidden), nn.ReLU(),\n",
    "                       nn.Linear(in_features=hidden, out_features=10))\n",
    "optimiser = torch.optim.SGD(model1.parameters(), lr=lr)\n",
    "\n",
    "train(model1, optimiser, mb_size, epochs)"
   ]
  },
  {
   "cell_type": "code",
   "execution_count": 24,
   "metadata": {},
   "outputs": [
    {
     "data": {
      "text/plain": [
       "0.96044921875"
      ]
     },
     "execution_count": 24,
     "metadata": {},
     "output_type": "execute_result"
    }
   ],
   "source": [
    "accuracy(model1, x_test_tensor,  y_test_tensor, mb_size)"
   ]
  },
  {
   "cell_type": "code",
   "execution_count": null,
   "metadata": {},
   "outputs": [],
   "source": []
  },
  {
   "cell_type": "code",
   "execution_count": null,
   "metadata": {},
   "outputs": [],
   "source": []
  },
  {
   "cell_type": "code",
   "execution_count": null,
   "metadata": {},
   "outputs": [],
   "source": []
  },
  {
   "cell_type": "code",
   "execution_count": null,
   "metadata": {},
   "outputs": [],
   "source": []
  },
  {
   "cell_type": "code",
   "execution_count": null,
   "metadata": {},
   "outputs": [],
   "source": []
  },
  {
   "cell_type": "code",
   "execution_count": null,
   "metadata": {},
   "outputs": [],
   "source": []
  },
  {
   "cell_type": "code",
   "execution_count": null,
   "metadata": {},
   "outputs": [],
   "source": []
  },
  {
   "cell_type": "code",
   "execution_count": null,
   "metadata": {},
   "outputs": [],
   "source": []
  },
  {
   "cell_type": "code",
   "execution_count": null,
   "metadata": {},
   "outputs": [],
   "source": []
  },
  {
   "cell_type": "code",
   "execution_count": null,
   "metadata": {},
   "outputs": [],
   "source": []
  },
  {
   "cell_type": "code",
   "execution_count": null,
   "metadata": {},
   "outputs": [],
   "source": []
  },
  {
   "cell_type": "code",
   "execution_count": null,
   "metadata": {},
   "outputs": [],
   "source": []
  },
  {
   "cell_type": "code",
   "execution_count": null,
   "metadata": {},
   "outputs": [],
   "source": []
  },
  {
   "cell_type": "code",
   "execution_count": null,
   "metadata": {},
   "outputs": [],
   "source": []
  },
  {
   "cell_type": "code",
   "execution_count": null,
   "metadata": {},
   "outputs": [],
   "source": []
  }
 ],
 "metadata": {
  "kernelspec": {
   "display_name": "Python 3",
   "language": "python",
   "name": "python3"
  },
  "language_info": {
   "codemirror_mode": {
    "name": "ipython",
    "version": 3
   },
   "file_extension": ".py",
   "mimetype": "text/x-python",
   "name": "python",
   "nbconvert_exporter": "python",
   "pygments_lexer": "ipython3",
   "version": "3.11.3"
  },
  "varInspector": {
   "cols": {
    "lenName": 16,
    "lenType": 16,
    "lenVar": 40
   },
   "kernels_config": {
    "python": {
     "delete_cmd_postfix": "",
     "delete_cmd_prefix": "del ",
     "library": "var_list.py",
     "varRefreshCmd": "print(var_dic_list())"
    },
    "r": {
     "delete_cmd_postfix": ") ",
     "delete_cmd_prefix": "rm(",
     "library": "var_list.r",
     "varRefreshCmd": "cat(var_dic_list()) "
    }
   },
   "types_to_exclude": [
    "module",
    "function",
    "builtin_function_or_method",
    "instance",
    "_Feature"
   ],
   "window_display": false
  }
 },
 "nbformat": 4,
 "nbformat_minor": 4
}
