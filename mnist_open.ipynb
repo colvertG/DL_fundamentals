{
 "cells": [
  {
   "cell_type": "code",
   "execution_count": 1,
   "metadata": {},
   "outputs": [],
   "source": [
    "import gzip #Descomprimir\n",
    "import os \n",
    "from os.path import isfile, join #Para saber si un elemento es un archivo o directorio, unir rutas\n",
    "import numpy as np"
   ]
  },
  {
   "cell_type": "code",
   "execution_count": 2,
   "metadata": {},
   "outputs": [],
   "source": [
    "def list_files(mnist_path):\n",
    "    return [join(mnist_path,f) for f in os.listdir(mnist_path) if isfile(join(mnist_path, f))]"
   ]
  },
  {
   "cell_type": "code",
   "execution_count": 5,
   "metadata": {},
   "outputs": [
    {
     "data": {
      "text/plain": [
       "['C:\\\\Users\\\\colve\\\\Documents\\\\DATOS TESIS\\\\mnist_raw\\\\t10k-images-idx3-ubyte.gz',\n",
       " 'C:\\\\Users\\\\colve\\\\Documents\\\\DATOS TESIS\\\\mnist_raw\\\\t10k-labels-idx1-ubyte.gz',\n",
       " 'C:\\\\Users\\\\colve\\\\Documents\\\\DATOS TESIS\\\\mnist_raw\\\\train-images-idx3-ubyte.gz',\n",
       " 'C:\\\\Users\\\\colve\\\\Documents\\\\DATOS TESIS\\\\mnist_raw\\\\train-labels-idx1-ubyte.gz']"
      ]
     },
     "execution_count": 5,
     "metadata": {},
     "output_type": "execute_result"
    }
   ],
   "source": [
    "mnist_path = r'C:\\Users\\colve\\Documents\\DATOS TESIS\\mnist_raw'\n",
    "list_files(mnist_path)"
   ]
  },
  {
   "cell_type": "code",
   "execution_count": 6,
   "metadata": {},
   "outputs": [],
   "source": [
    "\n",
    "def get_images(mnist_path):\n",
    "    for f in list_files(mnist_path):\n",
    "        if 'train-images' in f:\n",
    "            with gzip.open(f, 'rb') as data:\n",
    "                _ = int.from_bytes(data.read(4), 'big')\n",
    "                num_images = int.from_bytes(data.read(4), 'big')\n",
    "                rows = int.from_bytes(data.read(4), 'big')\n",
    "                cols = int.from_bytes(data.read(4), 'big')\n",
    "                train_images = data.read()\n",
    "                x_train = np.frombuffer(train_images, dtype=np.uint8)\n",
    "                x_train = x_train.reshape((num_images, rows, cols))\n",
    "        elif 'train-labels' in f:\n",
    "            with gzip.open(f, 'rb') as data:\n",
    "                train_labels = data.read()[8:]\n",
    "                y_train = np.frombuffer(train_labels, dtype=np.uint8)\n",
    "        if 't10k-images' in f:\n",
    "            with gzip.open(f, 'rb') as data:\n",
    "                _ = int.from_bytes(data.read(4), 'big')\n",
    "                num_images = int.from_bytes(data.read(4), 'big')\n",
    "                rows = int.from_bytes(data.read(4), 'big')\n",
    "                cols = int.from_bytes(data.read(4), 'big')\n",
    "                test_images = data.read()\n",
    "                x_test = np.frombuffer(test_images, dtype=np.uint8)\n",
    "                x_test = x_test.reshape((num_images, rows, cols))\n",
    "        elif 't10k-labels' in f:\n",
    "            with gzip.open(f, 'rb') as data:\n",
    "                test_labels = data.read()[8:]\n",
    "                y_test = np.frombuffer(test_labels, dtype=np.uint8)\n",
    "    \n",
    "    return x_train, y_train, x_test, y_test         "
   ]
  },
  {
   "cell_type": "code",
   "execution_count": 7,
   "metadata": {},
   "outputs": [],
   "source": [
    "x_train, y_train, x_test, y_test = get_images(mnist_path)"
   ]
  },
  {
   "cell_type": "code",
   "execution_count": 9,
   "metadata": {},
   "outputs": [
    {
     "data": {
      "text/plain": [
       "(60000, 28, 28)"
      ]
     },
     "execution_count": 9,
     "metadata": {},
     "output_type": "execute_result"
    }
   ],
   "source": [
    "x_train.shape"
   ]
  },
  {
   "cell_type": "code",
   "execution_count": 20,
   "metadata": {},
   "outputs": [],
   "source": [
    "import matplotlib.pyplot as plt\n",
    "%matplotlib inline"
   ]
  },
  {
   "cell_type": "code",
   "execution_count": 21,
   "metadata": {},
   "outputs": [],
   "source": [
    "def plot_number(image):\n",
    "    plt.imshow(image.squeeze(), cmap=plt.get_cmap('gray'))\n",
    "    plt.axis('off')"
   ]
  },
  {
   "cell_type": "code",
   "execution_count": 58,
   "metadata": {},
   "outputs": [
    {
     "data": {
      "image/png": "[encoded data removed]",
      "text/plain": [
       "<Figure size 640x480 with 1 Axes>"
      ]
     },
     "metadata": {},
     "output_type": "display_data"
    }
   ],
   "source": [
    "ran_idx = np.random.randint(len(y_test))\n",
    "plot_number(x_test[ran_idx])"
   ]
  },
  {
   "cell_type": "code",
   "execution_count": null,
   "metadata": {},
   "outputs": [],
   "source": []
  }
 ],
 "metadata": {
  "kernelspec": {
   "display_name": "entornoCPU",
   "language": "python",
   "name": "python3"
  },
  "language_info": {
   "codemirror_mode": {
    "name": "ipython",
    "version": 3
   },
   "file_extension": ".py",
   "mimetype": "text/x-python",
   "name": "python",
   "nbconvert_exporter": "python",
   "pygments_lexer": "ipython3",
   "version": "3.11.0"
  },
  "orig_nbformat": 4
 },
 "nbformat": 4,
 "nbformat_minor": 2
}
